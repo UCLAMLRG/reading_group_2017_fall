{
 "cells": [
  {
   "cell_type": "code",
   "execution_count": 4,
   "metadata": {
    "collapsed": true
   },
   "outputs": [],
   "source": [
    "import numpy as np\n",
    "from math import sqrt\n",
    "import matplotlib.pyplot as plt"
   ]
  },
  {
   "cell_type": "code",
   "execution_count": 5,
   "metadata": {
    "collapsed": true
   },
   "outputs": [],
   "source": [
    "def nonlin(x,deriv=False):\n",
    "    if(deriv==True):\n",
    "        return x*(1-x)\n",
    "    return 1/(1+np.exp(-x))"
   ]
  },
  {
   "cell_type": "code",
   "execution_count": 6,
   "metadata": {},
   "outputs": [],
   "source": [
    "def run(a1,y,alpha,n_neurons,la=0,niter=1000):\n",
    "    syn = [2*np.random.random((2,n_neurons[0])) - 1 ]\n",
    "    i=0\n",
    "    for i in range(len(n_neurons)-1):\n",
    "        syn.append(2*np.random.random((n_neurons[i],n_neurons[i+1])) - 1)\n",
    "    if len(n_neurons)>1:\n",
    "        i+=1\n",
    "\n",
    "    syn.append(2*np.random.random((n_neurons[i],1)) - 1)\n",
    "\n",
    "   \n",
    "    ns=len(syn)\n",
    "    ntest=len(y)\n",
    "    error1=np.zeros((niter))\n",
    "\n",
    "    for i in range(niter):\n",
    "        der = []\n",
    "        for k in  range(ns):\n",
    "            der.append(np.zeros(syn[k].shape))\n",
    "        #print  i\n",
    "        for j in range(ntest):#loop on all the observations from the test sample\n",
    "            # forward propagation\n",
    "            l=[np.array([a1[j,:]])] \n",
    "\n",
    "            for k in range(ns):\n",
    "                l.append(nonlin(np.dot(l[-1],syn[k])))\n",
    "            \n",
    "\n",
    "            err=l[-1]-y[j]\n",
    "            error1[i]+= np.dot(err,err)\n",
    "\n",
    "            # backpropagation\n",
    "            D= err*nonlin(l[-1],deriv=True)\n",
    "            \n",
    "            for k in range(ns-1,-1,-1):\n",
    "                der[k] +=l[k].T.dot(D)\n",
    "                D = D.dot(syn[k].T)*nonlin(l[k],deriv=True)\n",
    "                \n",
    "        for k in range(ns):\n",
    "            syn[k]-=alpha*(der[k]/ntest + la*syn[k])\n",
    "\n",
    "    a=a1\n",
    "    # evaluation\n",
    "    # forward propagation\n",
    "    for k in range(ns):\n",
    "        z = np.matmul(a,syn[k])\n",
    "        a = nonlin(z)\n",
    "    \n",
    "    return np.sqrt(error1),a,syn"
   ]
  },
  {
   "cell_type": "code",
   "execution_count": null,
   "metadata": {},
   "outputs": [],
   "source": [
    "# training test\n",
    "a1 = np.array([[1.,1.],[0.,0.],[1.,0.],[0.,1.]])\n",
    "y = np.array([[0.],[0.],[1.],[1.]])\n",
    "\n",
    "n_neurons=[3]\n",
    "\n",
    "s=run(a1,y,10.,n_neurons,niter=10000)"
   ]
  },
  {
   "cell_type": "code",
   "execution_count": 58,
   "metadata": {
    "collapsed": true
   },
   "outputs": [],
   "source": [
    "# Input test\n",
    "ntest=1000\n",
    "x=np.random.rand(ntest,2)\n",
    "\n",
    "y=x[:,0]**2+x[:,1]**2\n",
    "\n",
    "X=x\n",
    "mix1=np.min(X[:,0])\n",
    "max1=np.max(X[:,0])\n",
    "\n",
    "X[:,0]= (X[:,0]-mix1)/(max1-mix1)\n",
    "mix2=np.min(X[:,1])\n",
    "max2=np.max(X[:,1])\n",
    "\n",
    "X[:,1]= (X[:,1]-mix2)/(max2-mix2)\n",
    "\n",
    "\n",
    "miy=np.min(y)\n",
    "may=np.max(y)\n",
    "\n",
    "Y= np.array([(y-miy)/(may-miy)]).T\n",
    "\n"
   ]
  },
  {
   "cell_type": "code",
   "execution_count": null,
   "metadata": {},
   "outputs": [],
   "source": [
    "n_neurons=[7,3,2]\n",
    "s=run(X,Y,1.,n_neurons,niter=1000)"
   ]
  },
  {
   "cell_type": "code",
   "execution_count": null,
   "metadata": {},
   "outputs": [],
   "source": [
    "plt.plot(s[1])\n",
    "plt.xlabel('Iter')\n",
    "plt.ylabel('Error')\n",
    "plt.show()"
   ]
  },
  {
   "cell_type": "code",
   "execution_count": null,
   "metadata": {},
   "outputs": [],
   "source": [
    "# new data\n",
    "xdat=np.linspace(0,1,10)\n",
    "xdat=np.array([xdat,xdat]).T\n",
    "ydat=xdat[:,0]**2+xdat[:,1]**2 #True value\n",
    "xdat_rescaled=np.array([(xdat[:,0]-mix1)/(max1-mix1),(xdat[:,1]-mix2)/(max2-mix2)]).T"
   ]
  },
  {
   "cell_type": "code",
   "execution_count": null,
   "metadata": {},
   "outputs": [],
   "source": [
    "syn=s[2]\n",
    "a=xdat_rescaled\n",
    "\n",
    "# predicition\n",
    "for k in range(len(syn)):\n",
    "    z = np.matmul(a,syn[k])\n",
    "    a = nonlin(z)\n",
    "ypred= a*(may-miy)+miy\n",
    "plt.plot(xdat[:,0],ydat,xdat[:,0],ypred)\n",
    "plt.legend(['True value','Model'])\n",
    "plt.show()"
   ]
  },
  {
   "cell_type": "code",
   "execution_count": null,
   "metadata": {
    "collapsed": true
   },
   "outputs": [],
   "source": []
  }
 ],
 "metadata": {
  "kernelspec": {
   "display_name": "Python 3",
   "language": "python",
   "name": "python3"
  },
  "language_info": {
   "codemirror_mode": {
    "name": "ipython",
    "version": 3
   },
   "file_extension": ".py",
   "mimetype": "text/x-python",
   "name": "python",
   "nbconvert_exporter": "python",
   "pygments_lexer": "ipython3",
   "version": "3.6.1"
  }
 },
 "nbformat": 4,
 "nbformat_minor": 2
}
