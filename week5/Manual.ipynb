{
 "cells": [
  {
   "cell_type": "code",
   "execution_count": 1,
   "metadata": {
    "collapsed": true,
    "deletable": true,
    "editable": true
   },
   "outputs": [],
   "source": [
    "import numpy as np\n",
    "from math import sqrt"
   ]
  },
  {
   "cell_type": "code",
   "execution_count": 2,
   "metadata": {
    "collapsed": true,
    "deletable": true,
    "editable": true
   },
   "outputs": [],
   "source": [
    "def sigmoid(x):\n",
    "    return 1/(1+np.exp(-x))\n",
    "\n",
    "def der_sigmoid(x):\n",
    "    return np.exp(x)/(1+np.exp(x))**2"
   ]
  },
  {
   "cell_type": "code",
   "execution_count": 3,
   "metadata": {
    "collapsed": true,
    "deletable": true,
    "editable": true
   },
   "outputs": [],
   "source": [
    "#synapses \n",
    "synl1 = np.array([[0.8,0.2],[0.4,0.9],[0.3,0.5]] )\n",
    "synl2 = np.array([0.3,0.5,0.9] )"
   ]
  },
  {
   "cell_type": "code",
   "execution_count": 4,
   "metadata": {
    "collapsed": true,
    "deletable": true,
    "editable": true
   },
   "outputs": [],
   "source": [
    "# input\n",
    "a1 = np.array([1.,1.])"
   ]
  },
  {
   "cell_type": "markdown",
   "metadata": {},
   "source": [
    "### First the feedforward, layer by layer"
   ]
  },
  {
   "cell_type": "code",
   "execution_count": 5,
   "metadata": {
    "collapsed": false,
    "deletable": true,
    "editable": true
   },
   "outputs": [
    {
     "name": "stdout",
     "output_type": "stream",
     "text": [
      "[ 1.   1.3  0.8]\n",
      "[ 0.73105858  0.78583498  0.68997448]\n"
     ]
    }
   ],
   "source": [
    "# layer 2\n",
    "z2 = np.matmul(synl1,a1)\n",
    "a2 = sigmoid(z2)\n",
    "print(z2)\n",
    "print(a2)"
   ]
  },
  {
   "cell_type": "code",
   "execution_count": 6,
   "metadata": {
    "collapsed": false,
    "deletable": true,
    "editable": true
   },
   "outputs": [
    {
     "name": "stdout",
     "output_type": "stream",
     "text": [
      "1.23321209813\n",
      "0.774380272053\n"
     ]
    }
   ],
   "source": [
    "# layer 3 - output\n",
    "z3 = np.matmul(synl2,a2)\n",
    "a3 = sigmoid(z3)\n",
    "print(z3)\n",
    "print(a3)"
   ]
  },
  {
   "cell_type": "markdown",
   "metadata": {
    "deletable": true,
    "editable": true
   },
   "source": [
    "## Now the back propagation. First: the $\\partial J/\\partial z_i^{(l)}$"
   ]
  },
  {
   "cell_type": "code",
   "execution_count": 7,
   "metadata": {
    "collapsed": false,
    "deletable": true,
    "editable": true
   },
   "outputs": [
    {
     "name": "stdout",
     "output_type": "stream",
     "text": [
      "0.135296210332\n"
     ]
    }
   ],
   "source": [
    "#layer 3\n",
    "D3=(a3-0)*der_sigmoid(z3)\n",
    "print(D3)"
   ]
  },
  {
   "cell_type": "code",
   "execution_count": 8,
   "metadata": {
    "collapsed": false,
    "deletable": true,
    "editable": true
   },
   "outputs": [
    {
     "name": "stdout",
     "output_type": "stream",
     "text": [
      "[ 0.00798025  0.01138507  0.02604705]\n"
     ]
    }
   ],
   "source": [
    "#layer 2\n",
    "D2=D3*synl2*der_sigmoid(z2)\n",
    "print(D2)"
   ]
  },
  {
   "cell_type": "markdown",
   "metadata": {
    "deletable": true,
    "editable": true
   },
   "source": [
    "## Now the derivative with respect to the weights $\\partial J/\\partial W_{ij}^{(l)}$"
   ]
  },
  {
   "cell_type": "code",
   "execution_count": 9,
   "metadata": {
    "collapsed": false,
    "deletable": true,
    "editable": true
   },
   "outputs": [
    {
     "name": "stdout",
     "output_type": "stream",
     "text": [
      "[ 0.09890946  0.1063205   0.09335093]\n"
     ]
    }
   ],
   "source": [
    "# synapses between layers 2-3\n",
    "der23 = a2*D3\n",
    "print(der23)"
   ]
  },
  {
   "cell_type": "code",
   "execution_count": 10,
   "metadata": {
    "collapsed": false,
    "deletable": true,
    "editable": true
   },
   "outputs": [
    {
     "name": "stdout",
     "output_type": "stream",
     "text": [
      "[[ 0.00798025  0.01138507  0.02604705]\n",
      " [ 0.00798025  0.01138507  0.02604705]]\n"
     ]
    }
   ],
   "source": [
    "# synapses between layers 1-2\n",
    "der12 = np.matmul(np.array([a1]).T,np.array([D2]))\n",
    "print(der12)"
   ]
  },
  {
   "cell_type": "markdown",
   "metadata": {
    "deletable": true,
    "editable": true
   },
   "source": [
    "## Now the gradient of the cost function wrt to all weights"
   ]
  },
  {
   "cell_type": "code",
   "execution_count": 11,
   "metadata": {
    "collapsed": true,
    "deletable": true,
    "editable": true
   },
   "outputs": [],
   "source": [
    "alpha = 5."
   ]
  },
  {
   "cell_type": "code",
   "execution_count": 12,
   "metadata": {
    "collapsed": true,
    "deletable": true,
    "editable": true
   },
   "outputs": [],
   "source": [
    "#update of the gradient\n",
    "synl1 -= alpha*der12.T\n",
    "synl2 -= alpha*der23.T"
   ]
  },
  {
   "cell_type": "code",
   "execution_count": 16,
   "metadata": {
    "collapsed": false,
    "deletable": true,
    "editable": true
   },
   "outputs": [
    {
     "name": "stdout",
     "output_type": "stream",
     "text": [
      "Layer1:  [[ 0.76009873  0.16009873]\n",
      " [ 0.34307467  0.84307467]\n",
      " [ 0.16976473  0.36976473]]\n",
      "Layer2:  [-0.19454728 -0.03160248  0.43324534]\n"
     ]
    }
   ],
   "source": [
    "print (\"Layer1: \", synl1)\n",
    "print (\"Layer2: \",synl2)"
   ]
  },
  {
   "cell_type": "markdown",
   "metadata": {
    "deletable": true,
    "editable": true
   },
   "source": [
    "## What happens if we evaluate the model again?"
   ]
  },
  {
   "cell_type": "code",
   "execution_count": 13,
   "metadata": {
    "collapsed": false,
    "deletable": true,
    "editable": true
   },
   "outputs": [
    {
     "name": "stdout",
     "output_type": "stream",
     "text": [
      "[ 0.92019745  1.18614935  0.53952946]\n",
      "[ 0.71508234  0.76605167  0.63170295]\n",
      "0.110355908096\n",
      "0.527561011887\n"
     ]
    }
   ],
   "source": [
    "# layer 2\n",
    "z2 = np.matmul(synl1,a1)\n",
    "a2 = sigmoid(z2)\n",
    "print(z2)\n",
    "print(a2)\n",
    "# layer 3 - output\n",
    "z3 = np.matmul(synl2,a2)\n",
    "a3 = sigmoid(z3)\n",
    "print(z3)\n",
    "print(a3)"
   ]
  },
  {
   "cell_type": "code",
   "execution_count": null,
   "metadata": {
    "collapsed": true,
    "deletable": true,
    "editable": true
   },
   "outputs": [],
   "source": []
  }
 ],
 "metadata": {
  "kernelspec": {
   "display_name": "Python 2",
   "language": "python",
   "name": "python2"
  },
  "language_info": {
   "codemirror_mode": {
    "name": "ipython",
    "version": 2
   },
   "file_extension": ".py",
   "mimetype": "text/x-python",
   "name": "python",
   "nbconvert_exporter": "python",
   "pygments_lexer": "ipython2",
   "version": "2.7.13"
  }
 },
 "nbformat": 4,
 "nbformat_minor": 2
}
