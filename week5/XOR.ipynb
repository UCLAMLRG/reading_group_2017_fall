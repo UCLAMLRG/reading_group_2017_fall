{
 "cells": [
  {
   "cell_type": "code",
   "execution_count": 1,
   "metadata": {},
   "outputs": [],
   "source": [
    "import numpy as np\n",
    "from math import sqrt\n",
    "import matplotlib.pyplot as plt"
   ]
  },
  {
   "cell_type": "code",
   "execution_count": 2,
   "metadata": {
    "collapsed": true
   },
   "outputs": [],
   "source": [
    "def sigmoid(x):\n",
    "    return 1/(1+np.exp(-x))\n",
    "\n",
    "def der_sigmoid(x):\n",
    "    return np.exp(x)/(1+np.exp(x))**2"
   ]
  },
  {
   "cell_type": "code",
   "execution_count": 11,
   "metadata": {},
   "outputs": [],
   "source": [
    "niter=1000;\n",
    "def run(a1,y,alpha,syn1,syn2):\n",
    "    synl1=np.copy(syn1)\n",
    "    synl2=np.copy(syn2)\n",
    "    ntest=len(y)\n",
    "    \n",
    "    error1=np.zeros((niter))\n",
    "\n",
    "    for i in range(niter):\n",
    "        der23 = np.zeros(synl2.shape)\n",
    "        der12 = np.zeros(synl1.shape)\n",
    "        #print  i\n",
    "        for j in range(ntest):#loop on all the observations from the test sample\n",
    "            # forward propagation\n",
    "            z2 = np.matmul(synl1,a1[j,:])\n",
    "            a2 = sigmoid(z2)\n",
    "    \n",
    "            z3 = np.matmul(synl2,a2)\n",
    "            a3 = sigmoid(z3)\n",
    "            error1[i]+= np.dot(a3-y[j],a3-y[j])\n",
    "            \n",
    "            # backpropagation\n",
    "            D3=(a3-y[j])*der_sigmoid(z3)\n",
    "            D2=D3*synl2*der_sigmoid(z2)\n",
    "            #gradient\n",
    "            der23 += a2*D3\n",
    "            der12 += np.matmul(np.array([a1[j,:]]).T,np.array([D2])).T\n",
    "\n",
    "        synl1 -= alpha*der12/ntest\n",
    "        synl2 -= alpha*der23/ntest\n",
    "\n",
    "    \n",
    "    # evaluation\n",
    "    # forward propagation\n",
    "    z2 = np.matmul(synl1,a1.T)\n",
    "    a2 = sigmoid(z2)\n",
    "    \n",
    "    z3 = np.matmul(synl2,a2)\n",
    "    a3 = sigmoid(z3)\n",
    "    print(a3)\n",
    "    return np.sqrt(error1)"
   ]
  },
  {
   "cell_type": "code",
   "execution_count": 12,
   "metadata": {},
   "outputs": [],
   "source": [
    "# inital synapses \n",
    "synl1_init = np.array([[0.8,0.2],[0.4,0.9],[0.3,0.5]] )\n",
    "synl2_init = np.array([0.3,0.5,0.9] )"
   ]
  },
  {
   "cell_type": "code",
   "execution_count": 13,
   "metadata": {},
   "outputs": [
    {
     "name": "stdout",
     "output_type": "stream",
     "text": [
      "4\n"
     ]
    }
   ],
   "source": [
    "# training test\n",
    "a1 = np.array([[1.,1.],[0.,0.],[1.,0.],[0.,1.]])\n",
    "y = np.array([0.,0.,1.,1.])\n",
    "\n",
    "ntest=len(y)\n",
    "print(ntest)"
   ]
  },
  {
   "cell_type": "code",
   "execution_count": 14,
   "metadata": {},
   "outputs": [
    {
     "name": "stdout",
     "output_type": "stream",
     "text": [
      "[ 0.50877174  0.49594998  0.48975488  0.51843656]\n"
     ]
    }
   ],
   "source": [
    "e1 = run(a1,y,1,synl1_init,synl2_init)"
   ]
  },
  {
   "cell_type": "code",
   "execution_count": 15,
   "metadata": {},
   "outputs": [
    {
     "name": "stdout",
     "output_type": "stream",
     "text": [
      "[ 0.05208391  0.12103121  0.91834301  0.91844511]\n",
      "[ 0.02197552  0.07242293  0.95424882  0.95426439]\n"
     ]
    }
   ],
   "source": [
    "e2 = run(a1,y,5,synl1_init,synl2_init)\n",
    "e3 = run(a1,y,10,synl1_init,synl2_init)"
   ]
  },
  {
   "cell_type": "code",
   "execution_count": 16,
   "metadata": {},
   "outputs": [
    {
     "name": "stdout",
     "output_type": "stream",
     "text": [
      "[ 0.00991128  0.04272038  0.97373287  0.97374306]\n",
      "[ 0.013327    0.70343759  0.99758201  0.84823569]\n"
     ]
    }
   ],
   "source": [
    "e4 = run(a1,y,25,synl1_init,synl2_init)\n",
    "e5 = run(a1,y,40,synl1_init,synl2_init)"
   ]
  },
  {
   "cell_type": "code",
   "execution_count": 17,
   "metadata": {
    "scrolled": true
   },
   "outputs": [
    {
     "data": {
      "text/plain": [
       "<matplotlib.figure.Figure at 0x105c38358>"
      ]
     },
     "metadata": {},
     "output_type": "display_data"
    },
    {
     "data": {
      "image/png": "[encoded data removed]",
      "text/plain": [
       "<matplotlib.figure.Figure at 0x10be37ba8>"
      ]
     },
     "metadata": {},
     "output_type": "display_data"
    }
   ],
   "source": [
    "plt.figure(figsize=(8,6))\n",
    "plt.semilogy(np.arange(niter),e1,np.arange(niter),e2,np.arange(niter),e3,np.arange(niter),e4,np.arange(niter),e5)\n",
    "plt.xlabel('N iteration')\n",
    "plt.ylabel('Error')\n",
    "plt.legend(['alpha = 1','alpha = 5','alpha = 10','alpha = 25','alpha = 40'])\n",
    "plt.savefig('fig2.png')\n",
    "plt.show()"
   ]
  },
  {
   "cell_type": "code",
   "execution_count": null,
   "metadata": {
    "collapsed": true
   },
   "outputs": [],
   "source": []
  }
 ],
 "metadata": {
  "kernelspec": {
   "display_name": "Python 3",
   "language": "python",
   "name": "python3"
  },
  "language_info": {
   "codemirror_mode": {
    "name": "ipython",
    "version": 3
   },
   "file_extension": ".py",
   "mimetype": "text/x-python",
   "name": "python",
   "nbconvert_exporter": "python",
   "pygments_lexer": "ipython3",
   "version": "3.6.1"
  }
 },
 "nbformat": 4,
 "nbformat_minor": 2
}
