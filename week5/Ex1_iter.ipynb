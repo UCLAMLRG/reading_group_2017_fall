{
 "cells": [
  {
   "cell_type": "code",
   "execution_count": 1,
   "metadata": {
    "collapsed": true
   },
   "outputs": [],
   "source": [
    "import numpy as np\n",
    "from math import sqrt\n",
    "import matplotlib.pyplot as plt"
   ]
  },
  {
   "cell_type": "code",
   "execution_count": 2,
   "metadata": {
    "collapsed": true
   },
   "outputs": [],
   "source": [
    "def sigmoid(x):\n",
    "    return 1/(1+np.exp(-x))\n",
    "\n",
    "def der_sigmoid(x):\n",
    "    return np.exp(x)/(1+np.exp(x))**2"
   ]
  },
  {
   "cell_type": "code",
   "execution_count": 3,
   "metadata": {
    "collapsed": true
   },
   "outputs": [],
   "source": [
    "# inital synapses \n",
    "synl1 = np.array([[0.8,0.2],[0.4,0.9],[0.3,0.5]] )\n",
    "synl2 = np.array([0.3,0.5,0.9] )"
   ]
  },
  {
   "cell_type": "code",
   "execution_count": 4,
   "metadata": {
    "collapsed": true
   },
   "outputs": [],
   "source": [
    "# training test\n",
    "a1 = np.array([1.,1.])\n",
    "y = np.array([0.])"
   ]
  },
  {
   "cell_type": "code",
   "execution_count": 5,
   "metadata": {
    "collapsed": true
   },
   "outputs": [],
   "source": [
    "alpha = 1."
   ]
  },
  {
   "cell_type": "code",
   "execution_count": 6,
   "metadata": {
    "collapsed": true
   },
   "outputs": [],
   "source": [
    "niter=1000;\n",
    "error=np.zeros((niter))\n",
    "\n",
    "for i in range(niter):\n",
    "    # forward propagation\n",
    "    z2 = np.matmul(synl1,a1)\n",
    "    a2 = sigmoid(z2)\n",
    "    \n",
    "    z3 = np.matmul(synl2,a2)\n",
    "    a3 = sigmoid(z3)\n",
    "\n",
    "    error[i]= a3-y\n",
    "        \n",
    "    # backpropagation\n",
    "    D3=(a3-y)*der_sigmoid(z3)\n",
    "    D2=D3*synl2*der_sigmoid(z2)\n",
    "    \n",
    "\n",
    "    \n",
    "    #gradient\n",
    "    der23 = a2*D3\n",
    "    der12 = np.matmul(np.array([a1]).T,np.array([D2]))\n",
    "    \n",
    "    synl1 -= alpha*der12.T\n",
    "    synl2 -= alpha*der23.T"
   ]
  },
  {
   "cell_type": "code",
   "execution_count": 7,
   "metadata": {},
   "outputs": [
    {
     "data": {
      "image/png": "[encoded data removed]",
      "text/plain": [
       "<matplotlib.figure.Figure at 0x10e96bd68>"
      ]
     },
     "metadata": {},
     "output_type": "display_data"
    }
   ],
   "source": [
    "plt.figure(figsize=(8,6))\n",
    "plt.semilogy(np.arange(niter),error)\n",
    "plt.xlabel('N iteration')\n",
    "plt.ylabel('Error')\n",
    "plt.savefig('fig1.png')\n",
    "plt.show()"
   ]
  },
  {
   "cell_type": "code",
   "execution_count": null,
   "metadata": {
    "collapsed": true
   },
   "outputs": [],
   "source": []
  }
 ],
 "metadata": {
  "kernelspec": {
   "display_name": "Python 3",
   "language": "python",
   "name": "python3"
  },
  "language_info": {
   "codemirror_mode": {
    "name": "ipython",
    "version": 3
   },
   "file_extension": ".py",
   "mimetype": "text/x-python",
   "name": "python",
   "nbconvert_exporter": "python",
   "pygments_lexer": "ipython3",
   "version": "3.6.1"
  }
 },
 "nbformat": 4,
 "nbformat_minor": 2
}
